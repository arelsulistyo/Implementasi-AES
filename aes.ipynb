{
 "cells": [
  {
   "cell_type": "markdown",
   "metadata": {},
   "source": [
    "# AES"
   ]
  },
  {
   "cell_type": "code",
   "execution_count": 37,
   "metadata": {},
   "outputs": [],
   "source": [
    "import numpy as np"
   ]
  },
  {
   "cell_type": "code",
   "execution_count": 42,
   "metadata": {},
   "outputs": [],
   "source": [
    "def get_state(msg):\n",
    "    if len(msg) != 16:\n",
    "        return -1\n",
    "    \n",
    "    state = msg\n",
    "    state = [ord(char) for char in state]\n",
    "    state = [hex(char) for char in state]\n",
    "    state = [int(char, 16) for char in state]\n",
    "    state = [state[i:i+4] for i in range(0, len(state), 4)]\n",
    "    return np.array(state)\n",
    "\n",
    "def get_msg(state):\n",
    "    msg = state.copy()\n",
    "    msg = [char for row in state for char in row]\n",
    "    msg = ''.join(chr(char) for char in msg)\n",
    "    return msg\n",
    "\n",
    "def print_hex(state):\n",
    "    for row in state:\n",
    "        for char in row:\n",
    "            print(hex(char), end=' ')\n",
    "        print()"
   ]
  },
  {
   "cell_type": "markdown",
   "metadata": {},
   "source": [
    "## Substitute Bytes\n"
   ]
  },
  {
   "cell_type": "code",
   "execution_count": 4,
   "metadata": {},
   "outputs": [],
   "source": [
    "s_box = np.array([\n",
    "    [0x63,\t0x7c,\t0x77,\t0x7b,\t0xf2,\t0x6b,\t0x6f,\t0xc5,\t0x30,\t0x01,\t0x67,\t0x2b,\t0xfe,\t0xd7,\t0xab,\t0x76],\n",
    "    [0xca,\t0x82,\t0xc9,\t0x7d,\t0xfa,\t0x59,\t0x47,\t0xf0,\t0xad,\t0xd4,\t0xa2,\t0xaf,\t0x9c,\t0xa4,\t0x72,\t0xc0],\n",
    "    [0xb7,\t0xfd,\t0x93,\t0x26,\t0x36,\t0x3f,\t0xf7,\t0xcc,\t0x34,\t0xa5,\t0xe5,\t0xf1,\t0x71,\t0xd8,\t0x31,\t0x15],\n",
    "    [0x04,\t0xc7,\t0x23,\t0xc3,\t0x18,\t0x96,\t0x05,\t0x9a,\t0x07,\t0x12,\t0x80,\t0xe2,\t0xeb,\t0x27,\t0xb2,\t0x75],\n",
    "    [0x09,\t0x83,\t0x2c,\t0x1a,\t0x1b,\t0x6e,\t0x5a,\t0xa0,\t0x52,\t0x3b,\t0xd6,\t0xb3,\t0x29,\t0xe3,\t0x2f,\t0x84],\n",
    "    [0x53,\t0xd1,\t0x00,\t0xed,\t0x20,\t0xfc,\t0xb1,\t0x5b,\t0x6a,\t0xcb,\t0xbe,\t0x39,\t0x4a,\t0x4c,\t0x58,\t0xcf],\n",
    "    [0xd0,\t0xef,\t0xaa,\t0xfb,\t0x43,\t0x4d,\t0x33,\t0x85,\t0x45,\t0xf9,\t0x02,\t0x7f,\t0x50,\t0x3c,\t0x9f,\t0xa8],\n",
    "    [0x51,\t0xa3,\t0x40,\t0x8f,\t0x92,\t0x9d,\t0x38,\t0xf5,\t0xbc,\t0xb6,\t0xda,\t0x21,\t0x10,\t0xff,\t0xf3,\t0xd2],\n",
    "    [0xcd,\t0x0c,\t0x13,\t0xec,\t0x5f,\t0x97,\t0x44,\t0x17,\t0xc4,\t0xa7,\t0x7e,\t0x3d,\t0x64,\t0x5d,\t0x19,\t0x73],\n",
    "    [0x60,\t0x81,\t0x4f,\t0xdc,\t0x22,\t0x2a,\t0x90,\t0x88,\t0x46,\t0xee,\t0xb8,\t0x14,\t0xde,\t0x5e,\t0x0b,\t0xdb],\n",
    "    [0xe0,\t0x32,\t0x3a,\t0x0a,\t0x49,\t0x06,\t0x24,\t0x5c,\t0xc2,\t0xd3,\t0xac,\t0x62,\t0x91,\t0x95,\t0xe4,\t0x79],\n",
    "    [0xe7,\t0xc8,\t0x37,\t0x6d,\t0x8d,\t0xd5,\t0x4e,\t0xa9,\t0x6c,\t0x56,\t0xf4,\t0xea,\t0x65,\t0x7a,\t0xae,\t0x08],\n",
    "    [0xba,\t0x78,\t0x25,\t0x2e,\t0x1c,\t0xa6,\t0xb4,\t0xc6,\t0xe8,\t0xdd,\t0x74,\t0x1f,\t0x4b,\t0xbd,\t0x8b,\t0x8a],\n",
    "    [0x70,\t0x3e,\t0xb5,\t0x66,\t0x48,\t0x03,\t0xf6,\t0x0e,\t0x61,\t0x35,\t0x57,\t0xb9,\t0x86,\t0xc1,\t0x1d,\t0x9e],\n",
    "    [0xe1,\t0xf8,\t0x98,\t0x11,\t0x69,\t0xd9,\t0x8e,\t0x94,\t0x9b,\t0x1e,\t0x87,\t0xe9,\t0xce,\t0x55,\t0x28,\t0xdf],\n",
    "    [0x8c,\t0xa1,\t0x89,\t0x0d,\t0xbf,\t0xe6,\t0x42,\t0x68,\t0x41,\t0x99,\t0x2d,\t0x0f,\t0xb0,\t0x54,\t0xbb,\t0x16],\n",
    "])\n",
    "\n",
    "inverse_s_box = np.array([\n",
    "    [0x52,\t0x09,\t0x6a,\t0xd5,\t0x30,\t0x36,\t0xa5,\t0x38,\t0xbf,\t0x40,\t0xa3,\t0x9e,\t0x81,\t0xf3,\t0xd7,\t0xfb],\n",
    "    [0x7c,\t0xe3,\t0x39,\t0x82,\t0x9b,\t0x2f,\t0xff,\t0x87,\t0x34,\t0x8e,\t0x43,\t0x44,\t0xc4,\t0xde,\t0xe9,\t0xcb],\n",
    "    [0x54,\t0x7b,\t0x94,\t0x32,\t0xa6,\t0xc2,\t0x23,\t0x3d,\t0xee,\t0x4c,\t0x95,\t0x0b,\t0x42,\t0xfa,\t0xc3,\t0x4e],\n",
    "    [0x08,\t0x2e,\t0xa1,\t0x66,\t0x28,\t0xd9,\t0x24,\t0xb2,\t0x76,\t0x5b,\t0xa2,\t0x49,\t0x6d,\t0x8b,\t0xd1,\t0x25],\n",
    "    [0x72,\t0xf8,\t0xf6,\t0x64,\t0x86,\t0x68,\t0x98,\t0x16,\t0xd4,\t0xa4,\t0x5c,\t0xcc,\t0x5d,\t0x65,\t0xb6,\t0x92],\n",
    "    [0x6c,\t0x70,\t0x48,\t0x50,\t0xfd,\t0xed,\t0xb9,\t0xda,\t0x5e,\t0x15,\t0x46,\t0x57,\t0xa7,\t0x8d,\t0x9d,\t0x84],\n",
    "    [0x90,\t0xd8,\t0xab,\t0x00,\t0x8c,\t0xbc,\t0xd3,\t0x0a,\t0xf7,\t0xe4,\t0x58,\t0x05,\t0xb8,\t0xb3,\t0x45,\t0x06],\n",
    "    [0xd0,\t0x2c,\t0x1e,\t0x8f,\t0xca,\t0x3f,\t0x0f,\t0x02,\t0xc1,\t0xaf,\t0xbd,\t0x03,\t0x01,\t0x13,\t0x8a,\t0x6b],\n",
    "    [0x3a,\t0x91,\t0x11,\t0x41,\t0x4f,\t0x67,\t0xdc,\t0xea,\t0x97,\t0xf2,\t0xcf,\t0xce,\t0xf0,\t0xb4,\t0xe6,\t0x73],\n",
    "    [0x96,\t0xac,\t0x74,\t0x22,\t0xe7,\t0xad,\t0x35,\t0x85,\t0xe2,\t0xf9,\t0x37,\t0xe8,\t0x1c,\t0x75,\t0xdf,\t0x6e],\n",
    "    [0x47,\t0xf1,\t0x1a,\t0x71,\t0x1d,\t0x29,\t0xc5,\t0x89,\t0x6f,\t0xb7,\t0x62,\t0x0e,\t0xaa,\t0x18,\t0xbe,\t0x1b],\n",
    "    [0xfc,\t0x56,\t0x3e,\t0x4b,\t0xc6,\t0xd2,\t0x79,\t0x20,\t0x9a,\t0xdb,\t0xc0,\t0xfe,\t0x78,\t0xcd,\t0x5a,\t0xf4],\n",
    "    [0x1f,\t0xdd,\t0xa8,\t0x33,\t0x88,\t0x07,\t0xc7,\t0x31,\t0xb1,\t0x12,\t0x10,\t0x59,\t0x27,\t0x80,\t0xec,\t0x5f],\n",
    "    [0x60,\t0x51,\t0x7f,\t0xa9,\t0x19,\t0xb5,\t0x4a,\t0x0d,\t0x2d,\t0xe5,\t0x7a,\t0x9f,\t0x93,\t0xc9,\t0x9c,\t0xef],\n",
    "    [0xa0,\t0xe0,\t0x3b,\t0x4d,\t0xae,\t0x2a,\t0xf5,\t0xb0,\t0xc8,\t0xeb,\t0xbb,\t0x3c,\t0x83,\t0x53,\t0x99,\t0x61],\n",
    "    [0x17,\t0x2b,\t0x04,\t0x7e,\t0xba,\t0x77,\t0xd6,\t0x26,\t0xe1,\t0x69,\t0x14,\t0x63,\t0x55,\t0x21,\t0x0c,\t0x7d],\n",
    "])"
   ]
  },
  {
   "cell_type": "code",
   "execution_count": 46,
   "metadata": {},
   "outputs": [],
   "source": [
    "def substitute_bytes(state):\n",
    "    res = state.copy()\n",
    "    for i in range(4):\n",
    "        for j in range(4):\n",
    "            res[i][j] = s_box[res[i][j] // 16][res[i][j] % 16]\n",
    "    return res\n",
    "\n",
    "def inverse_substitute_bytes(state):\n",
    "    res = state.copy()\n",
    "    for i in range(4):\n",
    "        for j in range(4):\n",
    "            res[i][j] = inverse_s_box[res[i][j] // 16][res[i][j] % 16]\n",
    "    return res"
   ]
  },
  {
   "cell_type": "markdown",
   "metadata": {},
   "source": [
    "## Shift Rows\n"
   ]
  },
  {
   "cell_type": "code",
   "execution_count": 47,
   "metadata": {},
   "outputs": [],
   "source": [
    "def shift_rows(state):\n",
    "    res = state.copy()\n",
    "    for i in range(4):\n",
    "        for j in range(4):\n",
    "            res[i][j] = state[i][(j+i) % 4]\n",
    "    return res\n",
    "\n",
    "def inverse_shift_rows(state):\n",
    "    res = state.copy()\n",
    "    for i in range(4):\n",
    "        for j in range(4):\n",
    "            res[i][j] = state[i][(j-i) % 4]\n",
    "    return res"
   ]
  },
  {
   "cell_type": "markdown",
   "metadata": {},
   "source": [
    "## Mix Columns\n"
   ]
  },
  {
   "cell_type": "code",
   "execution_count": 48,
   "metadata": {},
   "outputs": [],
   "source": [
    "mix_col_matrix = np.array([\n",
    "    [2, 3, 1, 1],\n",
    "    [1, 2, 3, 1],\n",
    "    [1, 1, 2, 3],\n",
    "    [3, 1, 1, 2],\n",
    "])\n",
    "\n",
    "inverse_mix_col_matrix = np.array([\n",
    "    [14, 11, 13,  9],\n",
    "    [ 9, 14, 11, 13],\n",
    "    [13,  9, 14, 11],\n",
    "    [11, 13,  9, 14]\n",
    "])"
   ]
  },
  {
   "cell_type": "code",
   "execution_count": 50,
   "metadata": {},
   "outputs": [],
   "source": [
    "def gmul(x, y):\n",
    "    p = 0b100011011             # irreducable polynomial x^8+x^4+x^3+x+1\n",
    "    m = 0                       # m will be product\n",
    "    for i in range(8):          # mul two 8 bit values\n",
    "        m = m << 1\n",
    "        if m & 0b100000000:     # m overflow\n",
    "            m = m ^ p           # reduce m by p using XOR\n",
    "        if y & 0b010000000:     # if y is 1\n",
    "            m = m ^ x           # add x to m using XOR\n",
    "        y = y << 1\n",
    "    return m\n",
    "\n",
    "def mix_columns(state, matrix):\n",
    "    res = state.copy()\n",
    "    for i in range(4):\n",
    "        for j in range(4):\n",
    "            res[i][j] = 0\n",
    "            for k in range(4):\n",
    "                res[i][j] ^= gmul(matrix[i][k], state[k][j])\n",
    "    return res"
   ]
  },
  {
   "cell_type": "markdown",
   "metadata": {},
   "source": [
    "## Add Round Key"
   ]
  },
  {
   "cell_type": "code",
   "execution_count": 51,
   "metadata": {},
   "outputs": [],
   "source": [
    "def add_round_key(state, round_key):\n",
    "    res = state.copy()\n",
    "    for i in range(4):\n",
    "        for j in range(4):\n",
    "            res[i][j] ^= round_key[i][j]\n",
    "    return res"
   ]
  },
  {
   "cell_type": "markdown",
   "metadata": {},
   "source": [
    "# Key Expansion"
   ]
  },
  {
   "cell_type": "code",
   "execution_count": 52,
   "metadata": {},
   "outputs": [],
   "source": [
    "round_constant = np.array([\n",
    "    [0x01, 0x00, 0x00, 0x00],\n",
    "    [0x02, 0x00, 0x00, 0x00],\n",
    "    [0x04, 0x00, 0x00, 0x00],\n",
    "    [0x08, 0x00, 0x00, 0x00],\n",
    "    [0x10, 0x00, 0x00, 0x00],\n",
    "    [0x20, 0x00, 0x00, 0x00],\n",
    "    [0x40, 0x00, 0x00, 0x00],\n",
    "    [0x80, 0x00, 0x00, 0x00],\n",
    "    [0x1b, 0x00, 0x00, 0x00],\n",
    "    [0x36, 0x00, 0x00, 0x00],\n",
    "])"
   ]
  },
  {
   "cell_type": "code",
   "execution_count": 53,
   "metadata": {},
   "outputs": [],
   "source": [
    "def rot_word(word):\n",
    "    res = word.copy()\n",
    "    for i in range(4):\n",
    "        res[i] = word[(i+1) % 4]\n",
    "    return res\n",
    "\n",
    "def sub_word(word):\n",
    "    return [s_box[b // 16][b % 16] for b in word]\n",
    "\n",
    "def key_expansion(key):\n",
    "    key_symbols = get_state(key).transpose()\n",
    "    key_schedule = [[] for i in range(44)]\n",
    "\n",
    "    for i in range(4):\n",
    "        key_schedule[i] = key_symbols[i]\n",
    "\n",
    "    for i in range(4, 44):\n",
    "        temp = key_schedule[i-1]\n",
    "        if i % 4 == 0:\n",
    "            temp = sub_word(rot_word(temp)) ^ round_constant[i//4 - 1]\n",
    "        key_schedule[i] = key_schedule[i-4] ^ temp\n",
    "        \n",
    "    key_schedule = np.array(key_schedule).transpose()\n",
    "    \n",
    "    res = np.array([key_schedule[:, i:i+4] for i in range(0, 44, 4)])\n",
    "    \n",
    "    return res"
   ]
  },
  {
   "cell_type": "markdown",
   "metadata": {},
   "source": [
    "# AES"
   ]
  },
  {
   "cell_type": "code",
   "execution_count": 34,
   "metadata": {},
   "outputs": [],
   "source": [
    "def encrypt_aes(msg, key):\n",
    "    round_keys = key_expansion(key)\n",
    "    \n",
    "    state = get_state(msg)\n",
    "    state = add_round_key(state, round_keys[0])\n",
    "    \n",
    "    for i in range(1, 10):\n",
    "        state = substitute_bytes(state)\n",
    "        state = shift_rows(state)\n",
    "        state = mix_columns(state, mix_col_matrix)\n",
    "        state = add_round_key(state, round_keys[i])\n",
    "        \n",
    "    state = substitute_bytes(state)\n",
    "    state = shift_rows(state)\n",
    "    state = add_round_key(state, round_keys[10])\n",
    "    \n",
    "    return get_msg(state)\n",
    "\n",
    "def decrypt_aes(msg, key):\n",
    "    round_keys = key_expansion(key)\n",
    "    \n",
    "    state = get_state(msg)\n",
    "    state = add_round_key(state, round_keys[10])\n",
    "    \n",
    "    for i in range(9, 0, -1):\n",
    "        state = inverse_shift_rows(state)\n",
    "        state = inverse_substitute_bytes(state)\n",
    "        state = add_round_key(state, round_keys[i])\n",
    "        state = mix_columns(state, inverse_mix_col_matrix)\n",
    "        \n",
    "    state = inverse_shift_rows(state)\n",
    "    state = inverse_substitute_bytes(state)\n",
    "    state = add_round_key(state, round_keys[0])\n",
    "    \n",
    "    return get_msg(state)"
   ]
  },
  {
   "cell_type": "code",
   "execution_count": 54,
   "metadata": {},
   "outputs": [
    {
     "name": "stdout",
     "output_type": "stream",
     "text": [
      "àfßó\u0000Ö\u001bäêfýqä\n",
      "Two One Nine Two\n"
     ]
    }
   ],
   "source": [
    "msg = 'Two One Nine Two'\n",
    "key = 'Thats my Kung Fu'\n",
    "\n",
    "chiper = encrypt_aes(msg, key)\n",
    "plain = decrypt_aes(chiper, key)\n",
    "\n",
    "print(chiper)\n",
    "print(plain)"
   ]
  },
  {
   "cell_type": "code",
   "execution_count": null,
   "metadata": {},
   "outputs": [],
   "source": [
    "AES_TYPE = {\n",
    "    'AES-128': ....\n",
    "    ...\n",
    "    ...\n",
    "}"
   ]
  }
 ],
 "metadata": {
  "kernelspec": {
   "display_name": "Python 3",
   "language": "python",
   "name": "python3"
  },
  "language_info": {
   "codemirror_mode": {
    "name": "ipython",
    "version": 3
   },
   "file_extension": ".py",
   "mimetype": "text/x-python",
   "name": "python",
   "nbconvert_exporter": "python",
   "pygments_lexer": "ipython3",
   "version": "3.11.6"
  }
 },
 "nbformat": 4,
 "nbformat_minor": 2
}
