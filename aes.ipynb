{
 "cells": [
  {
   "cell_type": "markdown",
   "metadata": {},
   "source": [
    "# AES"
   ]
  },
  {
   "cell_type": "code",
   "execution_count": 75,
   "metadata": {},
   "outputs": [],
   "source": [
    "import numpy as np"
   ]
  },
  {
   "cell_type": "code",
   "execution_count": 76,
   "metadata": {},
   "outputs": [],
   "source": [
    "AES_TYPE = {\n",
    "    'AES_128': {'key_size': 16, 'rounds': 10, 'key_schedule_size': 176},\n",
    "    'AES_192': {'key_size': 24, 'rounds': 12, 'key_schedule_size': 208},\n",
    "    'AES_256': {'key_size': 32,'rounds': 14, 'key_schedule_size': 240},\n",
    "}"
   ]
  },
  {
   "cell_type": "markdown",
   "metadata": {},
   "source": [
    "# Constants"
   ]
  },
  {
   "cell_type": "code",
   "execution_count": 77,
   "metadata": {},
   "outputs": [],
   "source": [
    "S_BOX = {\n",
    "    'FORWARD': np.array([\n",
    "        [0x63,\t0x7c,\t0x77,\t0x7b,\t0xf2,\t0x6b,\t0x6f,\t0xc5,\t0x30,\t0x01,\t0x67,\t0x2b,\t0xfe,\t0xd7,\t0xab,\t0x76],\n",
    "        [0xca,\t0x82,\t0xc9,\t0x7d,\t0xfa,\t0x59,\t0x47,\t0xf0,\t0xad,\t0xd4,\t0xa2,\t0xaf,\t0x9c,\t0xa4,\t0x72,\t0xc0],\n",
    "        [0xb7,\t0xfd,\t0x93,\t0x26,\t0x36,\t0x3f,\t0xf7,\t0xcc,\t0x34,\t0xa5,\t0xe5,\t0xf1,\t0x71,\t0xd8,\t0x31,\t0x15],\n",
    "        [0x04,\t0xc7,\t0x23,\t0xc3,\t0x18,\t0x96,\t0x05,\t0x9a,\t0x07,\t0x12,\t0x80,\t0xe2,\t0xeb,\t0x27,\t0xb2,\t0x75],\n",
    "        [0x09,\t0x83,\t0x2c,\t0x1a,\t0x1b,\t0x6e,\t0x5a,\t0xa0,\t0x52,\t0x3b,\t0xd6,\t0xb3,\t0x29,\t0xe3,\t0x2f,\t0x84],\n",
    "        [0x53,\t0xd1,\t0x00,\t0xed,\t0x20,\t0xfc,\t0xb1,\t0x5b,\t0x6a,\t0xcb,\t0xbe,\t0x39,\t0x4a,\t0x4c,\t0x58,\t0xcf],\n",
    "        [0xd0,\t0xef,\t0xaa,\t0xfb,\t0x43,\t0x4d,\t0x33,\t0x85,\t0x45,\t0xf9,\t0x02,\t0x7f,\t0x50,\t0x3c,\t0x9f,\t0xa8],\n",
    "        [0x51,\t0xa3,\t0x40,\t0x8f,\t0x92,\t0x9d,\t0x38,\t0xf5,\t0xbc,\t0xb6,\t0xda,\t0x21,\t0x10,\t0xff,\t0xf3,\t0xd2],\n",
    "        [0xcd,\t0x0c,\t0x13,\t0xec,\t0x5f,\t0x97,\t0x44,\t0x17,\t0xc4,\t0xa7,\t0x7e,\t0x3d,\t0x64,\t0x5d,\t0x19,\t0x73],\n",
    "        [0x60,\t0x81,\t0x4f,\t0xdc,\t0x22,\t0x2a,\t0x90,\t0x88,\t0x46,\t0xee,\t0xb8,\t0x14,\t0xde,\t0x5e,\t0x0b,\t0xdb],\n",
    "        [0xe0,\t0x32,\t0x3a,\t0x0a,\t0x49,\t0x06,\t0x24,\t0x5c,\t0xc2,\t0xd3,\t0xac,\t0x62,\t0x91,\t0x95,\t0xe4,\t0x79],\n",
    "        [0xe7,\t0xc8,\t0x37,\t0x6d,\t0x8d,\t0xd5,\t0x4e,\t0xa9,\t0x6c,\t0x56,\t0xf4,\t0xea,\t0x65,\t0x7a,\t0xae,\t0x08],\n",
    "        [0xba,\t0x78,\t0x25,\t0x2e,\t0x1c,\t0xa6,\t0xb4,\t0xc6,\t0xe8,\t0xdd,\t0x74,\t0x1f,\t0x4b,\t0xbd,\t0x8b,\t0x8a],\n",
    "        [0x70,\t0x3e,\t0xb5,\t0x66,\t0x48,\t0x03,\t0xf6,\t0x0e,\t0x61,\t0x35,\t0x57,\t0xb9,\t0x86,\t0xc1,\t0x1d,\t0x9e],\n",
    "        [0xe1,\t0xf8,\t0x98,\t0x11,\t0x69,\t0xd9,\t0x8e,\t0x94,\t0x9b,\t0x1e,\t0x87,\t0xe9,\t0xce,\t0x55,\t0x28,\t0xdf],\n",
    "        [0x8c,\t0xa1,\t0x89,\t0x0d,\t0xbf,\t0xe6,\t0x42,\t0x68,\t0x41,\t0x99,\t0x2d,\t0x0f,\t0xb0,\t0x54,\t0xbb,\t0x16],\n",
    "    ]),\n",
    "\n",
    "    'INVERSE': np.array([\n",
    "        [0x52,  0x09,   0x6a,   0xd5,   0x30,   0x36,   0xa5,   0x38,   0xbf,   0x40,   0xa3,   0x9e,   0x81,   0xf3,   0xd7,   0xfb],\n",
    "        [0x7c,  0xe3,   0x39,   0x82,   0x9b,   0x2f,   0xff,   0x87,   0x34,   0x8e,   0x43,   0x44,   0xc4,   0xde,   0xe9,   0xcb],\n",
    "        [0x54,  0x7b,   0x94,   0x32,   0xa6,   0xc2,   0x23,   0x3d,   0xee,   0x4c,   0x95,   0x0b,   0x42,   0xfa,   0xc3,   0x4e],\n",
    "        [0x08,  0x2e,   0xa1,   0x66,   0x28,   0xd9,   0x24,   0xb2,   0x76,   0x5b,   0xa2,   0x49,   0x6d,   0x8b,   0xd1,   0x25],\n",
    "        [0x72,  0xf8,   0xf6,   0x64,   0x86,   0x68,   0x98,   0x16,   0xd4,   0xa4,   0x5c,   0xcc,   0x5d,   0x65,   0xb6,   0x92],\n",
    "        [0x6c,  0x70,   0x48,   0x50,   0xfd,   0xed,   0xb9,   0xda,   0x5e,   0x15,   0x46,   0x57,   0xa7,   0x8d,   0x9d,   0x84],\n",
    "        [0x90,  0xd8,   0xab,   0x00,   0x8c,   0xbc,   0xd3,   0x0a,   0xf7,   0xe4,   0x58,   0x05,   0xb8,   0xb3,   0x45,   0x06],\n",
    "        [0xd0,  0x2c,   0x1e,   0x8f,   0xca,   0x3f,   0x0f,   0x02,   0xc1,   0xaf,   0xbd,   0x03,   0x01,   0x13,   0x8a,   0x6b],\n",
    "        [0x3a,  0x91,   0x11,   0x41,   0x4f,   0x67,   0xdc,   0xea,   0x97,   0xf2,   0xcf,   0xce,   0xf0,   0xb4,   0xe6,   0x73],\n",
    "        [0x96,  0xac,   0x74,   0x22,   0xe7,   0xad,   0x35,   0x85,   0xe2,   0xf9,   0x37,   0xe8,   0x1c,   0x75,   0xdf,   0x6e],\n",
    "        [0x47,  0xf1,   0x1a,   0x71,   0x1d,   0x29,   0xc5,   0x89,   0x6f,   0xb7,   0x62,   0x0e,   0xaa,   0x18,   0xbe,   0x1b],\n",
    "        [0xfc,  0x56,   0x3e,   0x4b,   0xc6,   0xd2,   0x79,   0x20,   0x9a,   0xdb,   0xc0,   0xfe,   0x78,   0xcd,   0x5a,   0xf4],\n",
    "        [0x1f,  0xdd,   0xa8,   0x33,   0x88,   0x07,   0xc7,   0x31,   0xb1,   0x12,   0x10,   0x59,   0x27,   0x80,   0xec,   0x5f],\n",
    "        [0x60,  0x51,   0x7f,   0xa9,   0x19,   0xb5,   0x4a,   0x0d,   0x2d,   0xe5,   0x7a,   0x9f,   0x93,   0xc9,   0x9c,   0xef],\n",
    "        [0xa0,  0xe0,   0x3b,   0x4d,   0xae,   0x2a,   0xf5,   0xb0,   0xc8,   0xeb,   0xbb,   0x3c,   0x83,   0x53,   0x99,   0x61],\n",
    "        [0x17,  0x2b,   0x04,   0x7e,   0xba,   0x77,   0xd6,   0x26,   0xe1,   0x69,   0x14,   0x63,   0x55,   0x21,   0x0c,   0x7d],\n",
    "    ]),\n",
    "}"
   ]
  },
  {
   "cell_type": "code",
   "execution_count": 78,
   "metadata": {},
   "outputs": [],
   "source": [
    "MIX_COLUMNS_MATRIX = {\n",
    "    'FORWARD': np.array([\n",
    "        [2, 3, 1, 1],\n",
    "        [1, 2, 3, 1],\n",
    "        [1, 1, 2, 3],\n",
    "        [3, 1, 1, 2],\n",
    "    ]),\n",
    "\n",
    "    'INVERSE': np.array([\n",
    "        [14, 11, 13,  9],\n",
    "        [ 9, 14, 11, 13],\n",
    "        [13,  9, 14, 11],\n",
    "        [11, 13,  9, 14]\n",
    "    ]),\n",
    "}"
   ]
  },
  {
   "cell_type": "code",
   "execution_count": 79,
   "metadata": {},
   "outputs": [],
   "source": [
    "# def get_state(msg):\n",
    "#     if len(msg) != 16:\n",
    "#         return -1\n",
    "    \n",
    "#     state = msg\n",
    "#     state = [ord(char) for char in state]\n",
    "#     state = [hex(char) for char in state]\n",
    "#     state = [int(char, 16) for char in state]\n",
    "#     state = [state[i:i+4] for i in range(0, len(state), 4)]\n",
    "#     return np.array(state)\n",
    "\n",
    "def get_state(key_str):\n",
    "    key = [ord(char) for char in key_str]\n",
    "    state = np.array(key).reshape(4, len(key) // 4)\n",
    "    return state\n",
    "\n",
    "def get_msg(state):\n",
    "    msg = state.copy()\n",
    "    msg = [char for row in state for char in row]\n",
    "    msg = ''.join(chr(char) for char in msg)\n",
    "    return msg\n",
    "\n",
    "def print_hex(state):\n",
    "    for row in state:\n",
    "        for char in row:\n",
    "            print(f'{char:02x}', end=' ')\n",
    "        print()"
   ]
  },
  {
   "cell_type": "markdown",
   "metadata": {},
   "source": [
    "## Substitute Bytes\n"
   ]
  },
  {
   "cell_type": "code",
   "execution_count": 80,
   "metadata": {},
   "outputs": [],
   "source": [
    "def substitute_bytes(state, inverse=False):\n",
    "    s_box = S_BOX['INVERSE'] if inverse else S_BOX['FORWARD']\n",
    "    res = state.copy()\n",
    "\n",
    "    for i in range(4):\n",
    "        for j in range(4):\n",
    "            res[i][j] = s_box[res[i][j] // 16][res[i][j] % 16]\n",
    "    return res"
   ]
  },
  {
   "cell_type": "markdown",
   "metadata": {},
   "source": [
    "## Shift Rows\n"
   ]
  },
  {
   "cell_type": "code",
   "execution_count": 81,
   "metadata": {},
   "outputs": [],
   "source": [
    "def shift_rows(state, inverse=False):\n",
    "    res = state.copy()\n",
    "    for i in range(4):\n",
    "        for j in range(4):\n",
    "            if inverse:\n",
    "                res[i][j] = state[i][(j-i) % 4]\n",
    "            else:\n",
    "                res[i][j] = state[i][(j+i) % 4]\n",
    "    return res"
   ]
  },
  {
   "cell_type": "markdown",
   "metadata": {},
   "source": [
    "## Mix Columns\n"
   ]
  },
  {
   "cell_type": "code",
   "execution_count": 82,
   "metadata": {},
   "outputs": [],
   "source": [
    "def gmul(a, b):\n",
    "    p = 0\n",
    "\n",
    "    for _ in range(8):\n",
    "        if b & 1:               # If the least significant bit of b is set\n",
    "            p ^= a              # XOR p with a (add a to p in GF(2^8))\n",
    "\n",
    "        hi_bit_set = a & 0x80   # Check if the high bit of a is set\n",
    "        a <<= 1                 # Shift a left by 1 (equivalent to multiplying by 2)\n",
    "        if hi_bit_set:          # If the high bit was set\n",
    "            a ^= 0x1B           # XOR a with the irreducible polynomial 0x1B (reduce a)\n",
    "\n",
    "        b >>= 1                 # Shift b right by 1 (move to the next bit)\n",
    "\n",
    "    return p & 0xFF\n",
    "\n",
    "def mix_columns(state, inverse=False):\n",
    "    matrix = MIX_COLUMNS_MATRIX['INVERSE'] if inverse else MIX_COLUMNS_MATRIX['FORWARD']\n",
    "    res = state.copy()\n",
    "\n",
    "    for i in range(4):\n",
    "        for j in range(4):\n",
    "            res[i][j] = 0\n",
    "            for k in range(4):\n",
    "                res[i][j] ^= gmul(matrix[i][k], state[k][j])\n",
    "    return res"
   ]
  },
  {
   "cell_type": "markdown",
   "metadata": {},
   "source": [
    "## Add Round Key"
   ]
  },
  {
   "cell_type": "code",
   "execution_count": 83,
   "metadata": {},
   "outputs": [],
   "source": [
    "def add_round_key(state, round_key):\n",
    "    res = state.copy()\n",
    "    for i in range(4):\n",
    "        for j in range(4):\n",
    "            res[i][j] ^= round_key[i][j]\n",
    "    return res"
   ]
  },
  {
   "cell_type": "markdown",
   "metadata": {},
   "source": [
    "# Key Expansion"
   ]
  },
  {
   "cell_type": "code",
   "execution_count": 84,
   "metadata": {},
   "outputs": [],
   "source": [
    "def rot_word(word):\n",
    "    return word[1:] + word[:1]\n",
    "\n",
    "def sub_word(word):\n",
    "    s_box = S_BOX['FORWARD']\n",
    "    return [s_box[b // 16][b % 16] for b in word]\n",
    "\n",
    "def rcon(in_val):\n",
    "    c = 1\n",
    "    if in_val == 0:\n",
    "        return 0\n",
    "    while in_val != 1:\n",
    "        c = gmul(c, 2)\n",
    "        in_val -= 1\n",
    "    return c\n",
    "\n",
    "# def string_to_hex_list(key_str):\n",
    "#     return [ord(char) for char in key_str]\n",
    "\n",
    "# def get_key_state(key):\n",
    "#     state = np.array(key).reshape(4, len(key)//4).transpose()\n",
    "#     return state\n",
    "\n",
    "def key_expansion(key_str):\n",
    "    key = get_state(key_str).flatten()\n",
    "    key_size = len(key)\n",
    "\n",
    "    if key_size == 16:\n",
    "        config = AES_TYPE['AES_128']\n",
    "    elif key_size == 24:\n",
    "        config = AES_TYPE['AES_192']\n",
    "    elif key_size == 32:\n",
    "        config = AES_TYPE['AES_256']\n",
    "    else:\n",
    "        raise ValueError(\"Invalid key size\")\n",
    "\n",
    "    rounds = config['rounds']\n",
    "    key_schedule_size = config['key_schedule_size']\n",
    "    \n",
    "    key_schedule = list(key)\n",
    "    c = key_size\n",
    "    i = 1\n",
    "\n",
    "    while c < key_schedule_size:\n",
    "        t = key_schedule[c - 4:c]\n",
    "\n",
    "        if c % key_size == 0:\n",
    "            t = sub_word(rot_word(t))\n",
    "            t[0] ^= rcon(i)\n",
    "            i += 1\n",
    "        elif key_size == 32 and c % key_size == 16:\n",
    "            t = sub_word(t)\n",
    "\n",
    "        for a in range(4):\n",
    "            key_schedule.append(key_schedule[c - key_size] ^ t[a])\n",
    "            c += 1\n",
    "\n",
    "    round_keys = [key_schedule[i:i + 16] for i in range(0, len(key_schedule), 16)]\n",
    "    round_keys = [np.array(key).reshape(4, 4).transpose() for key in round_keys]\n",
    "\n",
    "    return round_keys"
   ]
  },
  {
   "cell_type": "markdown",
   "metadata": {},
   "source": [
    "# AES"
   ]
  },
  {
   "cell_type": "code",
   "execution_count": 85,
   "metadata": {},
   "outputs": [],
   "source": [
    "def encrypt_aes(msg, key):\n",
    "    key_size = len(key)\n",
    "    if key_size == 16:\n",
    "        config = AES_TYPE['AES_128']\n",
    "    elif key_size == 24:\n",
    "        config = AES_TYPE['AES_192']\n",
    "    elif key_size == 32:\n",
    "        config = AES_TYPE['AES_256']\n",
    "    else:\n",
    "        raise ValueError(\"Invalid key size\")\n",
    "\n",
    "    rounds = config['rounds']\n",
    "    round_keys = key_expansion(key)\n",
    "    \n",
    "    state = get_state(msg)\n",
    "    state = add_round_key(state, round_keys[0])\n",
    "    \n",
    "    for i in range(1, rounds):\n",
    "        state = substitute_bytes(state)\n",
    "        state = shift_rows(state)\n",
    "        state = mix_columns(state)\n",
    "        state = add_round_key(state, round_keys[i])\n",
    "        \n",
    "    state = substitute_bytes(state)\n",
    "    state = shift_rows(state)\n",
    "    state = add_round_key(state, round_keys[rounds])\n",
    "    \n",
    "    return get_msg(state)\n",
    "\n",
    "def decrypt_aes(msg, key):\n",
    "    key_size = len(key)\n",
    "    if key_size == 16:\n",
    "        config = AES_TYPE['AES_128']\n",
    "    elif key_size == 24:\n",
    "        config = AES_TYPE['AES_192']\n",
    "    elif key_size == 32:\n",
    "        config = AES_TYPE['AES_256']\n",
    "    else:\n",
    "        raise ValueError(\"Invalid key size\")\n",
    "\n",
    "    rounds = config['rounds']\n",
    "    round_keys = key_expansion(key)\n",
    "    \n",
    "    state = get_state(msg)\n",
    "    state = add_round_key(state, round_keys[rounds])\n",
    "    \n",
    "    for i in range(rounds - 1, 0, -1):\n",
    "        state = shift_rows(state, inverse=True)\n",
    "        state = substitute_bytes(state, inverse=True)\n",
    "        state = add_round_key(state, round_keys[i])\n",
    "        state = mix_columns(state, inverse=True)\n",
    "        \n",
    "    state = shift_rows(state, inverse=True)\n",
    "    state = substitute_bytes(state, inverse=True)\n",
    "    state = add_round_key(state, round_keys[0])\n",
    "    \n",
    "    return get_msg(state)"
   ]
  },
  {
   "cell_type": "code",
   "execution_count": 86,
   "metadata": {},
   "outputs": [
    {
     "name": "stdout",
     "output_type": "stream",
     "text": [
      "\u0000\u0011.ÛZâ\u0013Ï7±.<dÃ­\n",
      "Two One Nine Two\n"
     ]
    }
   ],
   "source": [
    "msg = 'Two One Nine Two'\n",
    "key = 'Thats my Kung Fu12345678'\n",
    "\n",
    "chiper = encrypt_aes(msg, key)\n",
    "plain = decrypt_aes(chiper, key)\n",
    "\n",
    "print(chiper)\n",
    "print(plain)"
   ]
  }
 ],
 "metadata": {
  "kernelspec": {
   "display_name": "Python 3",
   "language": "python",
   "name": "python3"
  },
  "language_info": {
   "codemirror_mode": {
    "name": "ipython",
    "version": 3
   },
   "file_extension": ".py",
   "mimetype": "text/x-python",
   "name": "python",
   "nbconvert_exporter": "python",
   "pygments_lexer": "ipython3",
   "version": "3.11.3"
  }
 },
 "nbformat": 4,
 "nbformat_minor": 2
}
