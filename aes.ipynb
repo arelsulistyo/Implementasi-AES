{
  "cells": [
    {
      "cell_type": "markdown",
      "metadata": {
        "id": "Mc9VMtGEyuWi"
      },
      "source": [
        "# AES"
      ]
    },
    {
      "cell_type": "code",
      "execution_count": 246,
      "metadata": {
        "id": "hJqVaT0JyuWj"
      },
      "outputs": [],
      "source": [
        "import numpy as np"
      ]
    },
    {
      "cell_type": "markdown",
      "metadata": {
        "id": "M8gCwpZAyuWk"
      },
      "source": [
        "# Constants"
      ]
    },
    {
      "cell_type": "code",
      "execution_count": 247,
      "metadata": {
        "id": "q3XDNs16yuWk"
      },
      "outputs": [],
      "source": [
        "S_BOX = {\n",
        "    'FORWARD': np.array([\n",
        "        [0x63,\t0x7c,\t0x77,\t0x7b,\t0xf2,\t0x6b,\t0x6f,\t0xc5,\t0x30,\t0x01,\t0x67,\t0x2b,\t0xfe,\t0xd7,\t0xab,\t0x76],\n",
        "        [0xca,\t0x82,\t0xc9,\t0x7d,\t0xfa,\t0x59,\t0x47,\t0xf0,\t0xad,\t0xd4,\t0xa2,\t0xaf,\t0x9c,\t0xa4,\t0x72,\t0xc0],\n",
        "        [0xb7,\t0xfd,\t0x93,\t0x26,\t0x36,\t0x3f,\t0xf7,\t0xcc,\t0x34,\t0xa5,\t0xe5,\t0xf1,\t0x71,\t0xd8,\t0x31,\t0x15],\n",
        "        [0x04,\t0xc7,\t0x23,\t0xc3,\t0x18,\t0x96,\t0x05,\t0x9a,\t0x07,\t0x12,\t0x80,\t0xe2,\t0xeb,\t0x27,\t0xb2,\t0x75],\n",
        "        [0x09,\t0x83,\t0x2c,\t0x1a,\t0x1b,\t0x6e,\t0x5a,\t0xa0,\t0x52,\t0x3b,\t0xd6,\t0xb3,\t0x29,\t0xe3,\t0x2f,\t0x84],\n",
        "        [0x53,\t0xd1,\t0x00,\t0xed,\t0x20,\t0xfc,\t0xb1,\t0x5b,\t0x6a,\t0xcb,\t0xbe,\t0x39,\t0x4a,\t0x4c,\t0x58,\t0xcf],\n",
        "        [0xd0,\t0xef,\t0xaa,\t0xfb,\t0x43,\t0x4d,\t0x33,\t0x85,\t0x45,\t0xf9,\t0x02,\t0x7f,\t0x50,\t0x3c,\t0x9f,\t0xa8],\n",
        "        [0x51,\t0xa3,\t0x40,\t0x8f,\t0x92,\t0x9d,\t0x38,\t0xf5,\t0xbc,\t0xb6,\t0xda,\t0x21,\t0x10,\t0xff,\t0xf3,\t0xd2],\n",
        "        [0xcd,\t0x0c,\t0x13,\t0xec,\t0x5f,\t0x97,\t0x44,\t0x17,\t0xc4,\t0xa7,\t0x7e,\t0x3d,\t0x64,\t0x5d,\t0x19,\t0x73],\n",
        "        [0x60,\t0x81,\t0x4f,\t0xdc,\t0x22,\t0x2a,\t0x90,\t0x88,\t0x46,\t0xee,\t0xb8,\t0x14,\t0xde,\t0x5e,\t0x0b,\t0xdb],\n",
        "        [0xe0,\t0x32,\t0x3a,\t0x0a,\t0x49,\t0x06,\t0x24,\t0x5c,\t0xc2,\t0xd3,\t0xac,\t0x62,\t0x91,\t0x95,\t0xe4,\t0x79],\n",
        "        [0xe7,\t0xc8,\t0x37,\t0x6d,\t0x8d,\t0xd5,\t0x4e,\t0xa9,\t0x6c,\t0x56,\t0xf4,\t0xea,\t0x65,\t0x7a,\t0xae,\t0x08],\n",
        "        [0xba,\t0x78,\t0x25,\t0x2e,\t0x1c,\t0xa6,\t0xb4,\t0xc6,\t0xe8,\t0xdd,\t0x74,\t0x1f,\t0x4b,\t0xbd,\t0x8b,\t0x8a],\n",
        "        [0x70,\t0x3e,\t0xb5,\t0x66,\t0x48,\t0x03,\t0xf6,\t0x0e,\t0x61,\t0x35,\t0x57,\t0xb9,\t0x86,\t0xc1,\t0x1d,\t0x9e],\n",
        "        [0xe1,\t0xf8,\t0x98,\t0x11,\t0x69,\t0xd9,\t0x8e,\t0x94,\t0x9b,\t0x1e,\t0x87,\t0xe9,\t0xce,\t0x55,\t0x28,\t0xdf],\n",
        "        [0x8c,\t0xa1,\t0x89,\t0x0d,\t0xbf,\t0xe6,\t0x42,\t0x68,\t0x41,\t0x99,\t0x2d,\t0x0f,\t0xb0,\t0x54,\t0xbb,\t0x16],\n",
        "    ]),\n",
        "\n",
        "    'INVERSE': np.array([\n",
        "        [0x52,  0x09,   0x6a,   0xd5,   0x30,   0x36,   0xa5,   0x38,   0xbf,   0x40,   0xa3,   0x9e,   0x81,   0xf3,   0xd7,   0xfb],\n",
        "        [0x7c,  0xe3,   0x39,   0x82,   0x9b,   0x2f,   0xff,   0x87,   0x34,   0x8e,   0x43,   0x44,   0xc4,   0xde,   0xe9,   0xcb],\n",
        "        [0x54,  0x7b,   0x94,   0x32,   0xa6,   0xc2,   0x23,   0x3d,   0xee,   0x4c,   0x95,   0x0b,   0x42,   0xfa,   0xc3,   0x4e],\n",
        "        [0x08,  0x2e,   0xa1,   0x66,   0x28,   0xd9,   0x24,   0xb2,   0x76,   0x5b,   0xa2,   0x49,   0x6d,   0x8b,   0xd1,   0x25],\n",
        "        [0x72,  0xf8,   0xf6,   0x64,   0x86,   0x68,   0x98,   0x16,   0xd4,   0xa4,   0x5c,   0xcc,   0x5d,   0x65,   0xb6,   0x92],\n",
        "        [0x6c,  0x70,   0x48,   0x50,   0xfd,   0xed,   0xb9,   0xda,   0x5e,   0x15,   0x46,   0x57,   0xa7,   0x8d,   0x9d,   0x84],\n",
        "        [0x90,  0xd8,   0xab,   0x00,   0x8c,   0xbc,   0xd3,   0x0a,   0xf7,   0xe4,   0x58,   0x05,   0xb8,   0xb3,   0x45,   0x06],\n",
        "        [0xd0,  0x2c,   0x1e,   0x8f,   0xca,   0x3f,   0x0f,   0x02,   0xc1,   0xaf,   0xbd,   0x03,   0x01,   0x13,   0x8a,   0x6b],\n",
        "        [0x3a,  0x91,   0x11,   0x41,   0x4f,   0x67,   0xdc,   0xea,   0x97,   0xf2,   0xcf,   0xce,   0xf0,   0xb4,   0xe6,   0x73],\n",
        "        [0x96,  0xac,   0x74,   0x22,   0xe7,   0xad,   0x35,   0x85,   0xe2,   0xf9,   0x37,   0xe8,   0x1c,   0x75,   0xdf,   0x6e],\n",
        "        [0x47,  0xf1,   0x1a,   0x71,   0x1d,   0x29,   0xc5,   0x89,   0x6f,   0xb7,   0x62,   0x0e,   0xaa,   0x18,   0xbe,   0x1b],\n",
        "        [0xfc,  0x56,   0x3e,   0x4b,   0xc6,   0xd2,   0x79,   0x20,   0x9a,   0xdb,   0xc0,   0xfe,   0x78,   0xcd,   0x5a,   0xf4],\n",
        "        [0x1f,  0xdd,   0xa8,   0x33,   0x88,   0x07,   0xc7,   0x31,   0xb1,   0x12,   0x10,   0x59,   0x27,   0x80,   0xec,   0x5f],\n",
        "        [0x60,  0x51,   0x7f,   0xa9,   0x19,   0xb5,   0x4a,   0x0d,   0x2d,   0xe5,   0x7a,   0x9f,   0x93,   0xc9,   0x9c,   0xef],\n",
        "        [0xa0,  0xe0,   0x3b,   0x4d,   0xae,   0x2a,   0xf5,   0xb0,   0xc8,   0xeb,   0xbb,   0x3c,   0x83,   0x53,   0x99,   0x61],\n",
        "        [0x17,  0x2b,   0x04,   0x7e,   0xba,   0x77,   0xd6,   0x26,   0xe1,   0x69,   0x14,   0x63,   0x55,   0x21,   0x0c,   0x7d],\n",
        "    ]),\n",
        "}"
      ]
    },
    {
      "cell_type": "code",
      "execution_count": 248,
      "metadata": {
        "id": "HhcSOHViyuWl"
      },
      "outputs": [],
      "source": [
        "MIX_COLUMNS_MATRIX = {\n",
        "    'FORWARD': np.array([\n",
        "        [2, 3, 1, 1],\n",
        "        [1, 2, 3, 1],\n",
        "        [1, 1, 2, 3],\n",
        "        [3, 1, 1, 2],\n",
        "    ]),\n",
        "\n",
        "    'INVERSE': np.array([\n",
        "        [14, 11, 13,  9],\n",
        "        [ 9, 14, 11, 13],\n",
        "        [13,  9, 14, 11],\n",
        "        [11, 13,  9, 14]\n",
        "    ]),\n",
        "}"
      ]
    },
    {
      "cell_type": "code",
      "execution_count": 249,
      "metadata": {
        "id": "fkVcmVw_yuWl"
      },
      "outputs": [],
      "source": [
        "ROUND_CONSTANT = np.array([\n",
        "    [0x01, 0x00, 0x00, 0x00],\n",
        "    [0x02, 0x00, 0x00, 0x00],\n",
        "    [0x04, 0x00, 0x00, 0x00],\n",
        "    [0x08, 0x00, 0x00, 0x00],\n",
        "    [0x10, 0x00, 0x00, 0x00],\n",
        "    [0x20, 0x00, 0x00, 0x00],\n",
        "    [0x40, 0x00, 0x00, 0x00],\n",
        "    [0x80, 0x00, 0x00, 0x00],\n",
        "    [0x1b, 0x00, 0x00, 0x00],\n",
        "    [0x36, 0x00, 0x00, 0x00],\n",
        "])"
      ]
    },
    {
      "cell_type": "code",
      "execution_count": 250,
      "metadata": {
        "id": "KBcbZyRXyuWl"
      },
      "outputs": [],
      "source": [
        "def get_state(msg):\n",
        "    if len(msg) != 16:\n",
        "        return -1\n",
        "\n",
        "    state = msg\n",
        "    state = [ord(char) for char in state]\n",
        "    state = [hex(char) for char in state]\n",
        "    state = [int(char, 16) for char in state]\n",
        "    state = [state[i:i+4] for i in range(0, len(state), 4)]\n",
        "    return np.array(state)\n",
        "\n",
        "def get_msg(state):\n",
        "    msg = state.copy()\n",
        "    msg = [char for row in state for char in row]\n",
        "    msg = ''.join(chr(char) for char in msg)\n",
        "    return msg\n",
        "\n",
        "def print_hex(state):\n",
        "    for row in state:\n",
        "        for char in row:\n",
        "            print(f'{char:02x}', end=' ')\n",
        "        print()"
      ]
    },
    {
      "cell_type": "markdown",
      "metadata": {
        "id": "voFwLr5pyuWl"
      },
      "source": [
        "## Substitute Bytes\n"
      ]
    },
    {
      "cell_type": "code",
      "execution_count": 251,
      "metadata": {
        "id": "eyyyaInUyuWl"
      },
      "outputs": [],
      "source": [
        "def substitute_bytes(state, inverse=False):\n",
        "    s_box = S_BOX['INVERSE'] if inverse else S_BOX['FORWARD']\n",
        "    res = state.copy()\n",
        "\n",
        "    for i in range(4):\n",
        "        for j in range(4):\n",
        "            res[i][j] = s_box[res[i][j] // 16][res[i][j] % 16]\n",
        "    return res"
      ]
    },
    {
      "cell_type": "markdown",
      "metadata": {
        "id": "iPQtgkyEyuWl"
      },
      "source": [
        "## Shift Rows\n"
      ]
    },
    {
      "cell_type": "code",
      "execution_count": 252,
      "metadata": {
        "id": "hQnBH5vRyuWl"
      },
      "outputs": [],
      "source": [
        "def shift_rows(state, inverse=False):\n",
        "    res = state.copy()\n",
        "    for i in range(4):\n",
        "        for j in range(4):\n",
        "            if inverse:\n",
        "                res[i][j] = state[i][(j-i) % 4]\n",
        "            else:\n",
        "                res[i][j] = state[i][(j+i) % 4]\n",
        "    return res"
      ]
    },
    {
      "cell_type": "markdown",
      "metadata": {
        "id": "XoSxaI9oyuWm"
      },
      "source": [
        "## Mix Columns\n"
      ]
    },
    {
      "cell_type": "code",
      "execution_count": 253,
      "metadata": {
        "id": "mFR0mXOJyuWm"
      },
      "outputs": [],
      "source": [
        "def gmul(a, b):\n",
        "    p = 0\n",
        "\n",
        "    for _ in range(8):\n",
        "        if b & 1:               # If the least significant bit of b is set\n",
        "            p ^= a              # XOR p with a (add a to p in GF(2^8))\n",
        "\n",
        "        hi_bit_set = a & 0x80   # Check if the high bit of a is set\n",
        "        a <<= 1                 # Shift a left by 1 (equivalent to multiplying by 2)\n",
        "        if hi_bit_set:          # If the high bit was set\n",
        "            a ^= 0x1B           # XOR a with the irreducible polynomial 0x1B (reduce a)\n",
        "\n",
        "        b >>= 1                 # Shift b right by 1 (move to the next bit)\n",
        "\n",
        "    return p & 0xFF\n",
        "\n",
        "def mix_columns(state, inverse=False):\n",
        "    matrix = MIX_COLUMNS_MATRIX['INVERSE'] if inverse else MIX_COLUMNS_MATRIX['FORWARD']\n",
        "    res = state.copy()\n",
        "\n",
        "    for i in range(4):\n",
        "        for j in range(4):\n",
        "            res[i][j] = 0\n",
        "            for k in range(4):\n",
        "                res[i][j] ^= gmul(matrix[i][k], state[k][j])\n",
        "    return res"
      ]
    },
    {
      "cell_type": "markdown",
      "metadata": {
        "id": "azFgqOcKyuWm"
      },
      "source": [
        "## Add Round Key"
      ]
    },
    {
      "cell_type": "code",
      "execution_count": 254,
      "metadata": {
        "id": "-lw3epNxyuWm"
      },
      "outputs": [],
      "source": [
        "def add_round_key(state, round_key):\n",
        "    res = state.copy()\n",
        "    for i in range(4):\n",
        "        for j in range(4):\n",
        "            res[i][j] ^= round_key[i][j]\n",
        "    return res"
      ]
    },
    {
      "cell_type": "markdown",
      "metadata": {
        "id": "Fm76oaRuyuWm"
      },
      "source": [
        "# Key Expansion"
      ]
    },
    {
      "cell_type": "code",
      "execution_count": 255,
      "metadata": {
        "id": "lpss_HngyuWm"
      },
      "outputs": [],
      "source": [
        "def rot_word(word):\n",
        "    res = word.copy()\n",
        "    for i in range(4):\n",
        "        res[i] = word[(i+1) % 4]\n",
        "    return res\n",
        "\n",
        "def sub_word(word):\n",
        "    s_box = S_BOX['FORWARD']\n",
        "    return [s_box[b // 16][b % 16] for b in word]\n",
        "\n",
        "def key_expansion(key):\n",
        "    key_symbols = get_state(key).transpose()\n",
        "    key_schedule = [[] for i in range(44)]\n",
        "\n",
        "    for i in range(4):\n",
        "        key_schedule[i] = key_symbols[i]\n",
        "\n",
        "    for i in range(4, 44):\n",
        "        temp = key_schedule[i-1]\n",
        "        if i % 4 == 0:\n",
        "            temp = sub_word(rot_word(temp)) ^ ROUND_CONSTANT[i//4 - 1]\n",
        "        key_schedule[i] = key_schedule[i-4] ^ temp\n",
        "\n",
        "    key_schedule = np.array(key_schedule).transpose()\n",
        "\n",
        "    res = np.array([key_schedule[:, i:i+4] for i in range(0, 44, 4)])\n",
        "\n",
        "    return res"
      ]
    },
    {
      "cell_type": "markdown",
      "metadata": {
        "id": "X93fDjDVyuWm"
      },
      "source": [
        "# AES"
      ]
    },
    {
      "cell_type": "code",
      "execution_count": 256,
      "metadata": {
        "id": "LGoQHAonyuWm"
      },
      "outputs": [],
      "source": [
        "def encrypt_aes(msg, key):\n",
        "    round_keys = key_expansion(key)\n",
        "\n",
        "    state = get_state(msg)\n",
        "    state = add_round_key(state, round_keys[0])\n",
        "\n",
        "    for i in range(1, 10):\n",
        "        state = substitute_bytes(state)\n",
        "        state = shift_rows(state)\n",
        "        state = mix_columns(state)\n",
        "        state = add_round_key(state, round_keys[i])\n",
        "\n",
        "    state = substitute_bytes(state)\n",
        "    state = shift_rows(state)\n",
        "    state = add_round_key(state, round_keys[10])\n",
        "\n",
        "    return get_msg(state)\n",
        "\n",
        "def decrypt_aes(msg, key):\n",
        "    round_keys = key_expansion(key)\n",
        "\n",
        "    state = get_state(msg)\n",
        "    state = add_round_key(state, round_keys[10])\n",
        "\n",
        "    for i in range(9, 0, -1):\n",
        "        state = shift_rows(state, inverse=True)\n",
        "        state = substitute_bytes(state, inverse=True)\n",
        "        state = add_round_key(state, round_keys[i])\n",
        "        state = mix_columns(state, inverse=True)\n",
        "\n",
        "    state = shift_rows(state, inverse=True)\n",
        "    state = substitute_bytes(state, inverse=True)\n",
        "    state = add_round_key(state, round_keys[0])\n",
        "\n",
        "    return get_msg(state)"
      ]
    },
    {
      "cell_type": "code",
      "execution_count": 257,
      "metadata": {
        "id": "7zB9cE8Qy-68"
      },
      "outputs": [],
      "source": [
        "def xor_bytes(a, b):\n",
        "    return ''.join(chr(ord(x) ^ ord(y)) for x, y in zip(a, b))"
      ]
    },
    {
      "cell_type": "code",
      "execution_count": 258,
      "metadata": {
        "id": "pXa1trG_zDAR"
      },
      "outputs": [],
      "source": [
        "def add_pkcs7_padding(data, block_size=16):\n",
        "    padding_length = block_size - len(data) % block_size\n",
        "    padding = chr(padding_length) * padding_length\n",
        "    return data + padding\n",
        "\n",
        "def remove_pkcs7_padding(data, block_size=16):\n",
        "    padding_length = ord(data[-1])\n",
        "    if padding_length < 1 or padding_length > block_size:\n",
        "        raise ValueError(\"Invalid padding length\")\n",
        "    if data[-padding_length:] != chr(padding_length) * padding_length:\n",
        "        raise ValueError(\"Invalid padding bytes\")\n",
        "    return data[:-padding_length]\n",
        "\n",
        "def encrypt_aes_cbc(msg, key, iv):\n",
        "    msg = add_pkcs7_padding(msg)\n",
        "    blocks = [msg[i:i+16] for i in range(0, len(msg), 16)]\n",
        "\n",
        "    encrypted_blocks = []\n",
        "    previous_block = iv\n",
        "\n",
        "    for block in blocks:\n",
        "        xor_block = xor_bytes(block, previous_block)\n",
        "        encrypted_block = encrypt_aes(xor_block, key)\n",
        "        encrypted_blocks.append(encrypted_block)\n",
        "        previous_block = encrypted_block\n",
        "\n",
        "    return ''.join(encrypted_blocks)\n",
        "\n",
        "def decrypt_aes_cbc(ciphertext, key, iv):\n",
        "    blocks = [ciphertext[i:i+16] for i in range(0, len(ciphertext), 16)]\n",
        "\n",
        "    decrypted_blocks = []\n",
        "    previous_block = iv\n",
        "\n",
        "    for block in blocks:\n",
        "        decrypted_block = decrypt_aes(block, key)\n",
        "        xor_block = xor_bytes(decrypted_block, previous_block)\n",
        "        decrypted_blocks.append(xor_block)\n",
        "        previous_block = block\n",
        "\n",
        "    return remove_pkcs7_padding(''.join(decrypted_blocks))"
      ]
    },
    {
      "cell_type": "code",
      "execution_count": 259,
      "metadata": {
        "colab": {
          "base_uri": "https://localhost:8080/"
        },
        "id": "gyMtav8yyuWm",
        "outputId": "265dd1d0-b47e-4027-ab79-0ed79c2fe19c"
      },
      "outputs": [
        {
          "name": "stdout",
          "output_type": "stream",
          "text": [
            "Ciphertext: \u0000,Û½(D`ÞF_\u0017é\fÌ+©kZÈ!ØR#\u0019û¾Qæ§Zq\u000b]}&'Û6ö¨(\n",
            "Plaintext: 1234567890123456\n"
          ]
        }
      ],
      "source": [
        "msg = '1234567890123456'\n",
        "key = 'Thats my Kung Fu'\n",
        "iv = 'initializationVe'\n",
        "\n",
        "msg = add_pkcs7_padding(msg)\n",
        "\n",
        "ciphertext = encrypt_aes_cbc(msg, key, iv)\n",
        "plaintext = decrypt_aes_cbc(ciphertext, key, iv)\n",
        "\n",
        "plaintext = remove_pkcs7_padding(plaintext)\n",
        "\n",
        "print(f\"Ciphertext: {ciphertext}\")\n",
        "print(f\"Plaintext: {plaintext}\")"
      ]
    },
    {
      "cell_type": "code",
      "execution_count": null,
      "metadata": {
        "id": "AzXND_lyyuWn"
      },
      "outputs": [],
      "source": []
    }
  ],
  "metadata": {
    "colab": {
      "provenance": []
    },
    "kernelspec": {
      "display_name": "Python 3",
      "language": "python",
      "name": "python3"
    },
    "language_info": {
      "codemirror_mode": {
        "name": "ipython",
        "version": 3
      },
      "file_extension": ".py",
      "mimetype": "text/x-python",
      "name": "python",
      "nbconvert_exporter": "python",
      "pygments_lexer": "ipython3",
      "version": "3.11.6"
    }
  },
  "nbformat": 4,
  "nbformat_minor": 0
}
